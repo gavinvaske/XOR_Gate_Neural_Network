{
 "cells": [
  {
   "cell_type": "code",
   "execution_count": 1,
   "metadata": {},
   "outputs": [
    {
     "name": "stderr",
     "output_type": "stream",
     "text": [
      "C:\\Users\\gvwar\\Anaconda3\\lib\\site-packages\\h5py\\__init__.py:36: FutureWarning: Conversion of the second argument of issubdtype from `float` to `np.floating` is deprecated. In future, it will be treated as `np.float64 == np.dtype(float).type`.\n",
      "  from ._conv import register_converters as _register_converters\n",
      "Using TensorFlow backend.\n"
     ]
    }
   ],
   "source": [
    "import tensorflow as tf\n",
    "import pandas as pd\n",
    "import numpy as np\n",
    "from sklearn.model_selection import train_test_split\n",
    "import keras\n",
    "from keras.models import Sequential\n",
    "from keras.layers import Dense, Activation"
   ]
  },
  {
   "cell_type": "code",
   "execution_count": 2,
   "metadata": {},
   "outputs": [],
   "source": [
    "# Initializing random input for the XOR gate using numpy function that creates\n",
    "## a random distribution of values between 0 and 1.\n",
    "X = np.random.rand(100000, 2)\n",
    "# Round each random value to the values 0 or 1.\n",
    "X = X.round()\n",
    "# Convert numpy matrix into DataFrame using 'pandas' library\n",
    "data = pd.DataFrame(X, dtype=np.int8)  "
   ]
  },
  {
   "cell_type": "code",
   "execution_count": 3,
   "metadata": {},
   "outputs": [
    {
     "data": {
      "text/html": [
       "<div>\n",
       "<style scoped>\n",
       "    .dataframe tbody tr th:only-of-type {\n",
       "        vertical-align: middle;\n",
       "    }\n",
       "\n",
       "    .dataframe tbody tr th {\n",
       "        vertical-align: top;\n",
       "    }\n",
       "\n",
       "    .dataframe thead th {\n",
       "        text-align: right;\n",
       "    }\n",
       "</style>\n",
       "<table border=\"1\" class=\"dataframe\">\n",
       "  <thead>\n",
       "    <tr style=\"text-align: right;\">\n",
       "      <th></th>\n",
       "      <th>0</th>\n",
       "      <th>1</th>\n",
       "    </tr>\n",
       "  </thead>\n",
       "  <tbody>\n",
       "    <tr>\n",
       "      <th>0</th>\n",
       "      <td>0</td>\n",
       "      <td>1</td>\n",
       "    </tr>\n",
       "    <tr>\n",
       "      <th>1</th>\n",
       "      <td>0</td>\n",
       "      <td>0</td>\n",
       "    </tr>\n",
       "    <tr>\n",
       "      <th>2</th>\n",
       "      <td>1</td>\n",
       "      <td>1</td>\n",
       "    </tr>\n",
       "    <tr>\n",
       "      <th>3</th>\n",
       "      <td>0</td>\n",
       "      <td>0</td>\n",
       "    </tr>\n",
       "    <tr>\n",
       "      <th>4</th>\n",
       "      <td>1</td>\n",
       "      <td>1</td>\n",
       "    </tr>\n",
       "  </tbody>\n",
       "</table>\n",
       "</div>"
      ],
      "text/plain": [
       "   0  1\n",
       "0  0  1\n",
       "1  0  0\n",
       "2  1  1\n",
       "3  0  0\n",
       "4  1  1"
      ]
     },
     "execution_count": 3,
     "metadata": {},
     "output_type": "execute_result"
    }
   ],
   "source": [
    "# Preview the first 5 rows of data\n",
    "data.head()"
   ]
  },
  {
   "cell_type": "code",
   "execution_count": 4,
   "metadata": {},
   "outputs": [
    {
     "name": "stdout",
     "output_type": "stream",
     "text": [
      "<class 'pandas.core.frame.DataFrame'>\n",
      "RangeIndex: 100000 entries, 0 to 99999\n",
      "Data columns (total 2 columns):\n",
      "0    100000 non-null int8\n",
      "1    100000 non-null int8\n",
      "dtypes: int8(2)\n",
      "memory usage: 195.4 KB\n"
     ]
    }
   ],
   "source": [
    "# Print info about the data\n",
    "data.info()"
   ]
  },
  {
   "cell_type": "code",
   "execution_count": 5,
   "metadata": {},
   "outputs": [],
   "source": [
    "# Description : This function mimicks a XOR logic gate.\n",
    "##              2 values are evaluated using XOR logic and \n",
    "##              a single output is returned.\n",
    "#\n",
    "## Input : A list containing 2 value\n",
    "#\n",
    "## Output : A binary output (0 or 1)\n",
    "def XOR_Gate(row):\n",
    "    if(row[0] == row[1]):\n",
    "        return 0\n",
    "    elif(row[0] != row[1]):\n",
    "        return 1\n",
    "    else: \n",
    "        raise ValueError('Corrupt value detected by XOR_Gate()')"
   ]
  },
  {
   "cell_type": "code",
   "execution_count": 6,
   "metadata": {},
   "outputs": [
    {
     "data": {
      "text/html": [
       "<div>\n",
       "<style scoped>\n",
       "    .dataframe tbody tr th:only-of-type {\n",
       "        vertical-align: middle;\n",
       "    }\n",
       "\n",
       "    .dataframe tbody tr th {\n",
       "        vertical-align: top;\n",
       "    }\n",
       "\n",
       "    .dataframe thead th {\n",
       "        text-align: right;\n",
       "    }\n",
       "</style>\n",
       "<table border=\"1\" class=\"dataframe\">\n",
       "  <thead>\n",
       "    <tr style=\"text-align: right;\">\n",
       "      <th></th>\n",
       "      <th>0</th>\n",
       "      <th>1</th>\n",
       "      <th>XOR Result</th>\n",
       "    </tr>\n",
       "  </thead>\n",
       "  <tbody>\n",
       "    <tr>\n",
       "      <th>0</th>\n",
       "      <td>0</td>\n",
       "      <td>1</td>\n",
       "      <td>1</td>\n",
       "    </tr>\n",
       "    <tr>\n",
       "      <th>1</th>\n",
       "      <td>0</td>\n",
       "      <td>0</td>\n",
       "      <td>0</td>\n",
       "    </tr>\n",
       "    <tr>\n",
       "      <th>2</th>\n",
       "      <td>1</td>\n",
       "      <td>1</td>\n",
       "      <td>0</td>\n",
       "    </tr>\n",
       "    <tr>\n",
       "      <th>3</th>\n",
       "      <td>0</td>\n",
       "      <td>0</td>\n",
       "      <td>0</td>\n",
       "    </tr>\n",
       "    <tr>\n",
       "      <th>4</th>\n",
       "      <td>1</td>\n",
       "      <td>1</td>\n",
       "      <td>0</td>\n",
       "    </tr>\n",
       "  </tbody>\n",
       "</table>\n",
       "</div>"
      ],
      "text/plain": [
       "   0  1  XOR Result\n",
       "0  0  1           1\n",
       "1  0  0           0\n",
       "2  1  1           0\n",
       "3  0  0           0\n",
       "4  1  1           0"
      ]
     },
     "execution_count": 6,
     "metadata": {},
     "output_type": "execute_result"
    }
   ],
   "source": [
    "# A lambda function is applied to each row of the data\n",
    "data['XOR Result'] = data.apply(lambda row: XOR_Gate(row), axis=1)\n",
    "\n",
    "# Preview the resulting dataframe\n",
    "data.head()"
   ]
  },
  {
   "cell_type": "code",
   "execution_count": 7,
   "metadata": {},
   "outputs": [],
   "source": [
    "# Seperate the feature/label from the DataFrame\n",
    "features = data.iloc[:, :2]\n",
    "label = data.iloc[:, 2]\n",
    "\n",
    "# Split feature/label into train/test dataset\n",
    "X_train, X_test, y_train, y_test = train_test_split(features, label, test_size=0.25, random_state=42)"
   ]
  },
  {
   "cell_type": "code",
   "execution_count": 8,
   "metadata": {},
   "outputs": [
    {
     "name": "stdout",
     "output_type": "stream",
     "text": [
      "X_train = 75000 samples.\n",
      "y_train = 75000 samples.\n",
      "X_test = 25000 samples.\n",
      "y_test = 25000 samples.\n"
     ]
    }
   ],
   "source": [
    "# Print the number of training/testing samples\n",
    "print(\"X_train =\", len(X_train), \"samples.\")\n",
    "print(\"y_train =\", len(y_train), \"samples.\")\n",
    "print(\"X_test =\", len(X_test), \"samples.\")\n",
    "print(\"y_test =\", len(y_test), \"samples.\")"
   ]
  },
  {
   "cell_type": "code",
   "execution_count": 9,
   "metadata": {},
   "outputs": [],
   "source": [
    "# Creating model\n",
    "model = Sequential()\n",
    "model.add(Dense(1, input_dim=2, activation=\"relu\"))\n",
    "model.add(Dense(1, activation='sigmoid'))"
   ]
  },
  {
   "cell_type": "code",
   "execution_count": 10,
   "metadata": {},
   "outputs": [],
   "source": [
    "# Compile model\n",
    "model.compile(loss='binary_crossentropy', optimizer='adam', metrics=['accuracy'])"
   ]
  },
  {
   "cell_type": "code",
   "execution_count": 11,
   "metadata": {},
   "outputs": [
    {
     "name": "stdout",
     "output_type": "stream",
     "text": [
      "Epoch 1/10\n",
      "75000/75000 [==============================] - 2s 26us/step - loss: 0.6932 - acc: 0.4973\n",
      "Epoch 2/10\n",
      "75000/75000 [==============================] - 2s 23us/step - loss: 0.6932 - acc: 0.4986\n",
      "Epoch 3/10\n",
      "75000/75000 [==============================] - 2s 23us/step - loss: 0.6932 - acc: 0.4982\n",
      "Epoch 4/10\n",
      "75000/75000 [==============================] - 2s 23us/step - loss: 0.6932 - acc: 0.4995\n",
      "Epoch 5/10\n",
      "75000/75000 [==============================] - 2s 23us/step - loss: 0.6932 - acc: 0.4995\n",
      "Epoch 6/10\n",
      "75000/75000 [==============================] - 2s 23us/step - loss: 0.6932 - acc: 0.4977\n",
      "Epoch 7/10\n",
      "75000/75000 [==============================] - 2s 23us/step - loss: 0.6932 - acc: 0.4980\n",
      "Epoch 8/10\n",
      "75000/75000 [==============================] - 2s 23us/step - loss: 0.6932 - acc: 0.5001\n",
      "Epoch 9/10\n",
      "75000/75000 [==============================] - 2s 23us/step - loss: 0.6932 - acc: 0.4979\n",
      "Epoch 10/10\n",
      "75000/75000 [==============================] - 2s 23us/step - loss: 0.6932 - acc: 0.4970\n"
     ]
    },
    {
     "data": {
      "text/plain": [
       "<keras.callbacks.History at 0x26a256669e8>"
      ]
     },
     "execution_count": 11,
     "metadata": {},
     "output_type": "execute_result"
    }
   ],
   "source": [
    "# Fit model on training data using 10 epochs\n",
    "model.fit(X_train, y_train, epochs=10)"
   ]
  },
  {
   "cell_type": "code",
   "execution_count": 12,
   "metadata": {},
   "outputs": [
    {
     "name": "stdout",
     "output_type": "stream",
     "text": [
      "25000/25000 [==============================] - 0s 10us/step\n"
     ]
    }
   ],
   "source": [
    "# Evaluate model with test data\n",
    "val_loss, val_accuracy = model.evaluate(X_test, y_test)"
   ]
  },
  {
   "cell_type": "code",
   "execution_count": 13,
   "metadata": {},
   "outputs": [
    {
     "name": "stdout",
     "output_type": "stream",
     "text": [
      "Test Data Accuracy = 50.104000000000006 %\n",
      "Test Data Loss = 0.6931456538963318\n"
     ]
    }
   ],
   "source": [
    "print(\"Test Data Accuracy =\", val_accuracy*100, '%')\n",
    "print(\"Test Data Loss =\", val_loss) "
   ]
  },
  {
   "cell_type": "code",
   "execution_count": 14,
   "metadata": {},
   "outputs": [],
   "source": [
    "# 50 % accuracy on such a simple problem... We can do better\n",
    "\n",
    "## We can make the following changes to help increase accuracy :\n",
    "## 1) Increasing the amount of data\n",
    "## 2) Increasing the number of epochs (At the risk of overfitting)\n",
    "## 3) Increasing model complexity by Adding hidden layers or additional neurons per layer "
   ]
  },
  {
   "cell_type": "code",
   "execution_count": 15,
   "metadata": {},
   "outputs": [],
   "source": [
    "# Using method 3, lets increase the complexity of the model\n",
    "## by adding additional neurons to the hidden layer\n",
    "\n",
    "# Initialize the model\n",
    "model = Sequential()\n",
    "# Add an input layer with 2 neurons, connected to a hidden layer with 16 neurons\n",
    "model.add(Dense(16, input_dim=2, activation=\"relu\"))\n",
    "# Add the output layer, consisting of a single neuron\n",
    "model.add(Dense(1, activation='sigmoid'))"
   ]
  },
  {
   "cell_type": "code",
   "execution_count": 16,
   "metadata": {},
   "outputs": [],
   "source": [
    "# Compile model\n",
    "model.compile(loss='binary_crossentropy', optimizer='adam', metrics=['accuracy'])"
   ]
  },
  {
   "cell_type": "code",
   "execution_count": 17,
   "metadata": {},
   "outputs": [
    {
     "name": "stdout",
     "output_type": "stream",
     "text": [
      "Epoch 1/1\n",
      "75000/75000 [==============================] - 2s 29us/step - loss: 0.2844 - acc: 0.9599\n"
     ]
    },
    {
     "data": {
      "text/plain": [
       "<keras.callbacks.History at 0x26a260b42b0>"
      ]
     },
     "execution_count": 17,
     "metadata": {},
     "output_type": "execute_result"
    }
   ],
   "source": [
    "# Fit model on training data \n",
    "# NOTE : the number of epochs required is less than\n",
    "## before as the more complex model will learn quicker\n",
    "model.fit(X_train, y_train, epochs=1)"
   ]
  },
  {
   "cell_type": "code",
   "execution_count": 18,
   "metadata": {},
   "outputs": [
    {
     "name": "stdout",
     "output_type": "stream",
     "text": [
      "25000/25000 [==============================] - 0s 12us/step\n"
     ]
    }
   ],
   "source": [
    "# Compute 'loss' and 'accuracy' on test dataset\n",
    "val_loss, val_accuracy = model.evaluate(X_test, y_test)"
   ]
  },
  {
   "cell_type": "code",
   "execution_count": 19,
   "metadata": {},
   "outputs": [
    {
     "name": "stdout",
     "output_type": "stream",
     "text": [
      "Test Data Accuracy = 100.0 %\n",
      "Test Data Loss = 0.03305102742671966\n"
     ]
    }
   ],
   "source": [
    "# Display 'loss' and 'accuracy' of the model\n",
    "print(\"Test Data Accuracy =\", val_accuracy*100, '%')\n",
    "print(\"Test Data Loss =\", val_loss) "
   ]
  },
  {
   "cell_type": "code",
   "execution_count": 20,
   "metadata": {},
   "outputs": [],
   "source": [
    "# Save the model to a file\n",
    "model.save('XOR_Predictor.model')"
   ]
  },
  {
   "cell_type": "code",
   "execution_count": null,
   "metadata": {},
   "outputs": [],
   "source": []
  }
 ],
 "metadata": {
  "kernelspec": {
   "display_name": "Python 3",
   "language": "python",
   "name": "python3"
  },
  "language_info": {
   "codemirror_mode": {
    "name": "ipython",
    "version": 3
   },
   "file_extension": ".py",
   "mimetype": "text/x-python",
   "name": "python",
   "nbconvert_exporter": "python",
   "pygments_lexer": "ipython3",
   "version": "3.6.5"
  }
 },
 "nbformat": 4,
 "nbformat_minor": 2
}
