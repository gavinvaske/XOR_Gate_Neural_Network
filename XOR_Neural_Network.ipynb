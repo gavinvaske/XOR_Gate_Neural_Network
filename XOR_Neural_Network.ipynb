{
 "cells": [
  {
   "cell_type": "code",
   "execution_count": 342,
   "metadata": {},
   "outputs": [],
   "source": [
    "import tensorflow as tf\n",
    "import pandas as pd\n",
    "import numpy as np\n",
    "from sklearn.model_selection import train_test_split\n",
    "import keras\n",
    "from keras.models import Sequential\n",
    "from keras.layers import Dense, Activation"
   ]
  },
  {
   "cell_type": "code",
   "execution_count": 336,
   "metadata": {},
   "outputs": [],
   "source": [
    "# Intialize list of odd or even values\n",
    "even_odd =  np.random.rand(10000, 1)\n",
    "even_odd = even_odd * 100 \n",
    "even_odd = even_odd.round()\n",
    "even_odd_data = pd.DataFrame(even_odd)"
   ]
  },
  {
   "cell_type": "code",
   "execution_count": 337,
   "metadata": {},
   "outputs": [
    {
     "data": {
      "text/html": [
       "<div>\n",
       "<style scoped>\n",
       "    .dataframe tbody tr th:only-of-type {\n",
       "        vertical-align: middle;\n",
       "    }\n",
       "\n",
       "    .dataframe tbody tr th {\n",
       "        vertical-align: top;\n",
       "    }\n",
       "\n",
       "    .dataframe thead th {\n",
       "        text-align: right;\n",
       "    }\n",
       "</style>\n",
       "<table border=\"1\" class=\"dataframe\">\n",
       "  <thead>\n",
       "    <tr style=\"text-align: right;\">\n",
       "      <th></th>\n",
       "      <th>0</th>\n",
       "    </tr>\n",
       "  </thead>\n",
       "  <tbody>\n",
       "    <tr>\n",
       "      <th>0</th>\n",
       "      <td>59.0</td>\n",
       "    </tr>\n",
       "    <tr>\n",
       "      <th>1</th>\n",
       "      <td>71.0</td>\n",
       "    </tr>\n",
       "    <tr>\n",
       "      <th>2</th>\n",
       "      <td>77.0</td>\n",
       "    </tr>\n",
       "    <tr>\n",
       "      <th>3</th>\n",
       "      <td>71.0</td>\n",
       "    </tr>\n",
       "    <tr>\n",
       "      <th>4</th>\n",
       "      <td>41.0</td>\n",
       "    </tr>\n",
       "  </tbody>\n",
       "</table>\n",
       "</div>"
      ],
      "text/plain": [
       "      0\n",
       "0  59.0\n",
       "1  71.0\n",
       "2  77.0\n",
       "3  71.0\n",
       "4  41.0"
      ]
     },
     "execution_count": 337,
     "metadata": {},
     "output_type": "execute_result"
    }
   ],
   "source": [
    "even_odd_data.head()"
   ]
  },
  {
   "cell_type": "code",
   "execution_count": 338,
   "metadata": {},
   "outputs": [],
   "source": [
    "def even_or_odd(row):\n",
    "    if row[0] % 2 == 0:\n",
    "        return 1\n",
    "    else:\n",
    "        return 0"
   ]
  },
  {
   "cell_type": "code",
   "execution_count": 339,
   "metadata": {},
   "outputs": [
    {
     "data": {
      "text/html": [
       "<div>\n",
       "<style scoped>\n",
       "    .dataframe tbody tr th:only-of-type {\n",
       "        vertical-align: middle;\n",
       "    }\n",
       "\n",
       "    .dataframe tbody tr th {\n",
       "        vertical-align: top;\n",
       "    }\n",
       "\n",
       "    .dataframe thead th {\n",
       "        text-align: right;\n",
       "    }\n",
       "</style>\n",
       "<table border=\"1\" class=\"dataframe\">\n",
       "  <thead>\n",
       "    <tr style=\"text-align: right;\">\n",
       "      <th></th>\n",
       "      <th>0</th>\n",
       "      <th>Even or Odd</th>\n",
       "    </tr>\n",
       "  </thead>\n",
       "  <tbody>\n",
       "    <tr>\n",
       "      <th>0</th>\n",
       "      <td>59.0</td>\n",
       "      <td>0</td>\n",
       "    </tr>\n",
       "    <tr>\n",
       "      <th>1</th>\n",
       "      <td>71.0</td>\n",
       "      <td>1</td>\n",
       "    </tr>\n",
       "    <tr>\n",
       "      <th>2</th>\n",
       "      <td>77.0</td>\n",
       "      <td>1</td>\n",
       "    </tr>\n",
       "    <tr>\n",
       "      <th>3</th>\n",
       "      <td>71.0</td>\n",
       "      <td>1</td>\n",
       "    </tr>\n",
       "    <tr>\n",
       "      <th>4</th>\n",
       "      <td>41.0</td>\n",
       "      <td>0</td>\n",
       "    </tr>\n",
       "    <tr>\n",
       "      <th>5</th>\n",
       "      <td>14.0</td>\n",
       "      <td>1</td>\n",
       "    </tr>\n",
       "    <tr>\n",
       "      <th>6</th>\n",
       "      <td>9.0</td>\n",
       "      <td>1</td>\n",
       "    </tr>\n",
       "    <tr>\n",
       "      <th>7</th>\n",
       "      <td>69.0</td>\n",
       "      <td>1</td>\n",
       "    </tr>\n",
       "    <tr>\n",
       "      <th>8</th>\n",
       "      <td>1.0</td>\n",
       "      <td>0</td>\n",
       "    </tr>\n",
       "    <tr>\n",
       "      <th>9</th>\n",
       "      <td>63.0</td>\n",
       "      <td>0</td>\n",
       "    </tr>\n",
       "  </tbody>\n",
       "</table>\n",
       "</div>"
      ],
      "text/plain": [
       "      0  Even or Odd\n",
       "0  59.0            0\n",
       "1  71.0            1\n",
       "2  77.0            1\n",
       "3  71.0            1\n",
       "4  41.0            0\n",
       "5  14.0            1\n",
       "6   9.0            1\n",
       "7  69.0            1\n",
       "8   1.0            0\n",
       "9  63.0            0"
      ]
     },
     "execution_count": 339,
     "metadata": {},
     "output_type": "execute_result"
    }
   ],
   "source": [
    "# This lambda function passes two inputs per row through \n",
    "## an XOR gate and placing the resulting output into a new column named 'XOR Result'\n",
    "even_odd_data['Even or Odd'] = data.apply(lambda row: even_or_odd(row), axis=1)\n",
    "\n",
    "# Preview the resulting dataframe\n",
    "even_odd_data.head(10)"
   ]
  },
  {
   "cell_type": "code",
   "execution_count": 340,
   "metadata": {},
   "outputs": [],
   "source": [
    "# Select a subset of the generated data and split into test/train\n",
    "features = even_odd_data.iloc[:, 0]\n",
    "label = even_odd_data.iloc[:, 1]\n",
    "\n",
    "X_train, X_test, y_train, y_test = train_test_split(features, label, test_size=0.25, random_state=42)\n"
   ]
  },
  {
   "cell_type": "code",
   "execution_count": 341,
   "metadata": {},
   "outputs": [
    {
     "name": "stdout",
     "output_type": "stream",
     "text": [
      "X_train = 7500 samples.\n",
      "y_train = 7500 samples.\n",
      "X_test = 2500 samples.\n",
      "y_test = 2500 samples.\n"
     ]
    }
   ],
   "source": [
    "print(\"X_train =\", len(X_train), \"samples.\")\n",
    "print(\"y_train =\", len(y_train), \"samples.\")\n",
    "print(\"X_test =\", len(X_test), \"samples.\")\n",
    "print(\"y_test =\", len(y_test), \"samples.\")"
   ]
  },
  {
   "cell_type": "code",
   "execution_count": 351,
   "metadata": {},
   "outputs": [],
   "source": [
    "# Creating odd/even model\n",
    "model = Sequential()\n",
    "model.add(Dense(2, input_dim=1, activation=\"relu\"))\n",
    "model.add(Dense(1, activation='sigmoid'))"
   ]
  },
  {
   "cell_type": "code",
   "execution_count": 352,
   "metadata": {},
   "outputs": [],
   "source": [
    "# Compile model\n",
    "model.compile(loss='binary_crossentropy', optimizer='adam', metrics=['accuracy'])"
   ]
  },
  {
   "cell_type": "code",
   "execution_count": 353,
   "metadata": {},
   "outputs": [
    {
     "name": "stdout",
     "output_type": "stream",
     "text": [
      "Epoch 1/10\n",
      "7500/7500 [==============================] - 2s 236us/step - loss: 0.6931 - acc: 0.5084\n",
      "Epoch 2/10\n",
      "7500/7500 [==============================] - 0s 49us/step - loss: 0.6930 - acc: 0.5095\n",
      "Epoch 3/10\n",
      "7500/7500 [==============================] - 0s 50us/step - loss: 0.6930 - acc: 0.5095\n",
      "Epoch 4/10\n",
      "7500/7500 [==============================] - 0s 59us/step - loss: 0.6930 - acc: 0.5095\n",
      "Epoch 5/10\n",
      "7500/7500 [==============================] - 0s 48us/step - loss: 0.6930 - acc: 0.5095\n",
      "Epoch 6/10\n",
      "7500/7500 [==============================] - 0s 54us/step - loss: 0.6930 - acc: 0.5095\n",
      "Epoch 7/10\n",
      "7500/7500 [==============================] - 0s 57us/step - loss: 0.6930 - acc: 0.5095\n",
      "Epoch 8/10\n",
      "7500/7500 [==============================] - 0s 50us/step - loss: 0.6930 - acc: 0.5095\n",
      "Epoch 9/10\n",
      "7500/7500 [==============================] - 0s 52us/step - loss: 0.6930 - acc: 0.5095\n",
      "Epoch 10/10\n",
      "7500/7500 [==============================] - 0s 48us/step - loss: 0.6930 - acc: 0.5095\n"
     ]
    },
    {
     "data": {
      "text/plain": [
       "<keras.callbacks.History at 0x1cb198b6f60>"
      ]
     },
     "execution_count": 353,
     "metadata": {},
     "output_type": "execute_result"
    }
   ],
   "source": [
    "# Fit model on training data\n",
    "model.fit(X_train, y_train, epochs=10)"
   ]
  },
  {
   "cell_type": "code",
   "execution_count": 354,
   "metadata": {},
   "outputs": [
    {
     "name": "stdout",
     "output_type": "stream",
     "text": [
      "Epoch 1/10\n",
      "7500/7500 [==============================] - 0s 53us/step - loss: 0.6930 - acc: 0.5095\n",
      "Epoch 2/10\n",
      "7500/7500 [==============================] - 0s 48us/step - loss: 0.6930 - acc: 0.5095\n",
      "Epoch 3/10\n",
      "7500/7500 [==============================] - 0s 49us/step - loss: 0.6930 - acc: 0.5095\n",
      "Epoch 4/10\n",
      "7500/7500 [==============================] - 0s 49us/step - loss: 0.6930 - acc: 0.5095\n",
      "Epoch 5/10\n",
      "7500/7500 [==============================] - 0s 49us/step - loss: 0.6930 - acc: 0.5095\n",
      "Epoch 6/10\n",
      "7500/7500 [==============================] - 0s 49us/step - loss: 0.6930 - acc: 0.5095\n",
      "Epoch 7/10\n",
      "7500/7500 [==============================] - 0s 50us/step - loss: 0.6930 - acc: 0.5095\n",
      "Epoch 8/10\n",
      "7500/7500 [==============================] - 0s 48us/step - loss: 0.6930 - acc: 0.5095\n",
      "Epoch 9/10\n",
      "7500/7500 [==============================] - 0s 48us/step - loss: 0.6930 - acc: 0.5095\n",
      "Epoch 10/10\n",
      "7500/7500 [==============================] - 0s 47us/step - loss: 0.6930 - acc: 0.5095\n"
     ]
    },
    {
     "data": {
      "text/plain": [
       "<keras.callbacks.History at 0x1cb198b6e10>"
      ]
     },
     "execution_count": 354,
     "metadata": {},
     "output_type": "execute_result"
    }
   ],
   "source": [
    "# Fit model on training data\n",
    "model.fit(X_train, y_train, epochs=10)"
   ]
  },
  {
   "cell_type": "code",
   "execution_count": 355,
   "metadata": {},
   "outputs": [
    {
     "name": "stdout",
     "output_type": "stream",
     "text": [
      "Test Data Accuracy = 100.0 %\n",
      "Test Data Loss = 3.441543941153213e-05\n"
     ]
    }
   ],
   "source": [
    "print(\"Test Data Accuracy =\", val_accuracy*100, '%')\n",
    "print(\"Test Data Loss =\", val_loss) "
   ]
  },
  {
   "cell_type": "code",
   "execution_count": 57,
   "metadata": {},
   "outputs": [],
   "source": [
    "# Initializing random input for the XOR gate using numpy function that creates\n",
    "## a random distribution of values between 0 and 1.\n",
    "X = np.random.rand(100000, 2)\n",
    "# Round each random value to the values 0 or 1.\n",
    "X = X.round()\n",
    "# Convert numpy matrix into pandas dataframe\n",
    "data = pd.DataFrame(X, dtype=np.int8)  "
   ]
  },
  {
   "cell_type": "code",
   "execution_count": 58,
   "metadata": {},
   "outputs": [
    {
     "data": {
      "text/html": [
       "<div>\n",
       "<style scoped>\n",
       "    .dataframe tbody tr th:only-of-type {\n",
       "        vertical-align: middle;\n",
       "    }\n",
       "\n",
       "    .dataframe tbody tr th {\n",
       "        vertical-align: top;\n",
       "    }\n",
       "\n",
       "    .dataframe thead th {\n",
       "        text-align: right;\n",
       "    }\n",
       "</style>\n",
       "<table border=\"1\" class=\"dataframe\">\n",
       "  <thead>\n",
       "    <tr style=\"text-align: right;\">\n",
       "      <th></th>\n",
       "      <th>0</th>\n",
       "      <th>1</th>\n",
       "    </tr>\n",
       "  </thead>\n",
       "  <tbody>\n",
       "    <tr>\n",
       "      <th>0</th>\n",
       "      <td>1</td>\n",
       "      <td>1</td>\n",
       "    </tr>\n",
       "    <tr>\n",
       "      <th>1</th>\n",
       "      <td>0</td>\n",
       "      <td>0</td>\n",
       "    </tr>\n",
       "    <tr>\n",
       "      <th>2</th>\n",
       "      <td>0</td>\n",
       "      <td>0</td>\n",
       "    </tr>\n",
       "    <tr>\n",
       "      <th>3</th>\n",
       "      <td>0</td>\n",
       "      <td>0</td>\n",
       "    </tr>\n",
       "    <tr>\n",
       "      <th>4</th>\n",
       "      <td>1</td>\n",
       "      <td>1</td>\n",
       "    </tr>\n",
       "  </tbody>\n",
       "</table>\n",
       "</div>"
      ],
      "text/plain": [
       "   0  1\n",
       "0  1  1\n",
       "1  0  0\n",
       "2  0  0\n",
       "3  0  0\n",
       "4  1  1"
      ]
     },
     "execution_count": 58,
     "metadata": {},
     "output_type": "execute_result"
    }
   ],
   "source": [
    "# Preview the first 5 rows of data\n",
    "data.head()"
   ]
  },
  {
   "cell_type": "code",
   "execution_count": 59,
   "metadata": {},
   "outputs": [
    {
     "name": "stdout",
     "output_type": "stream",
     "text": [
      "<class 'pandas.core.frame.DataFrame'>\n",
      "RangeIndex: 100000 entries, 0 to 99999\n",
      "Data columns (total 2 columns):\n",
      "0    100000 non-null int8\n",
      "1    100000 non-null int8\n",
      "dtypes: int8(2)\n",
      "memory usage: 195.4 KB\n"
     ]
    }
   ],
   "source": [
    "data.info()"
   ]
  },
  {
   "cell_type": "code",
   "execution_count": 231,
   "metadata": {},
   "outputs": [],
   "source": [
    "# Create a function to apply to 2 columns in dataframe\n",
    "## that mimicks an XOR gate in digital logic\n",
    "def XOR_Gate(row):\n",
    "    if(row[0] == row[1]):\n",
    "        return 0\n",
    "    elif(row[0] != row[1]):\n",
    "        return 1\n",
    "    else: \n",
    "        raise ValueError('Corrupt value detected by XOR_Gate()')"
   ]
  },
  {
   "cell_type": "code",
   "execution_count": 232,
   "metadata": {},
   "outputs": [
    {
     "data": {
      "text/html": [
       "<div>\n",
       "<style scoped>\n",
       "    .dataframe tbody tr th:only-of-type {\n",
       "        vertical-align: middle;\n",
       "    }\n",
       "\n",
       "    .dataframe tbody tr th {\n",
       "        vertical-align: top;\n",
       "    }\n",
       "\n",
       "    .dataframe thead th {\n",
       "        text-align: right;\n",
       "    }\n",
       "</style>\n",
       "<table border=\"1\" class=\"dataframe\">\n",
       "  <thead>\n",
       "    <tr style=\"text-align: right;\">\n",
       "      <th></th>\n",
       "      <th>0</th>\n",
       "      <th>1</th>\n",
       "      <th>XOR Result</th>\n",
       "    </tr>\n",
       "  </thead>\n",
       "  <tbody>\n",
       "    <tr>\n",
       "      <th>0</th>\n",
       "      <td>1</td>\n",
       "      <td>1</td>\n",
       "      <td>0</td>\n",
       "    </tr>\n",
       "    <tr>\n",
       "      <th>1</th>\n",
       "      <td>0</td>\n",
       "      <td>0</td>\n",
       "      <td>0</td>\n",
       "    </tr>\n",
       "    <tr>\n",
       "      <th>2</th>\n",
       "      <td>0</td>\n",
       "      <td>0</td>\n",
       "      <td>0</td>\n",
       "    </tr>\n",
       "    <tr>\n",
       "      <th>3</th>\n",
       "      <td>0</td>\n",
       "      <td>0</td>\n",
       "      <td>0</td>\n",
       "    </tr>\n",
       "    <tr>\n",
       "      <th>4</th>\n",
       "      <td>1</td>\n",
       "      <td>1</td>\n",
       "      <td>0</td>\n",
       "    </tr>\n",
       "  </tbody>\n",
       "</table>\n",
       "</div>"
      ],
      "text/plain": [
       "   0  1  XOR Result\n",
       "0  1  1           0\n",
       "1  0  0           0\n",
       "2  0  0           0\n",
       "3  0  0           0\n",
       "4  1  1           0"
      ]
     },
     "execution_count": 232,
     "metadata": {},
     "output_type": "execute_result"
    }
   ],
   "source": [
    "# This lambda function passes two inputs per row through \n",
    "## an XOR gate and placing the resulting output into a new column named 'XOR Result'\n",
    "data['XOR Result'] = data.apply(lambda row: XOR_Gate(row), axis=1)\n",
    "\n",
    "# Preview the resulting dataframe\n",
    "data.head()"
   ]
  },
  {
   "cell_type": "code",
   "execution_count": 306,
   "metadata": {},
   "outputs": [],
   "source": [
    "# Select a subset of the generated data and split into test/train\n",
    "num_rows = 10000\n",
    "features = data.iloc[:num_rows, :2]\n",
    "label = data.iloc[:num_rows, 2]\n",
    "\n",
    "X_train, X_test, y_train, y_test = train_test_split(features, label, test_size=0.25, random_state=42)"
   ]
  },
  {
   "cell_type": "code",
   "execution_count": 307,
   "metadata": {},
   "outputs": [
    {
     "name": "stdout",
     "output_type": "stream",
     "text": [
      "X_train = 7500 samples.\n",
      "y_train = 7500 samples.\n",
      "X_test = 2500 samples.\n",
      "y_test = 2500 samples.\n"
     ]
    }
   ],
   "source": [
    "print(\"X_train =\", len(X_train), \"samples.\")\n",
    "print(\"y_train =\", len(y_train), \"samples.\")\n",
    "print(\"X_test =\", len(X_test), \"samples.\")\n",
    "print(\"y_test =\", len(y_test), \"samples.\")"
   ]
  },
  {
   "cell_type": "code",
   "execution_count": 314,
   "metadata": {},
   "outputs": [],
   "source": [
    "import keras\n",
    "# Creating model\n",
    "model = Sequential()\n",
    "model.add(Dense(128, input_dim=2, activation=\"relu\"))\n",
    "model.add(Dense(128, activation=\"relu\"))\n",
    "model.add(Dense(1, activation='sigmoid'))"
   ]
  },
  {
   "cell_type": "code",
   "execution_count": 315,
   "metadata": {},
   "outputs": [],
   "source": [
    "# Compile model\n",
    "model.compile(loss='binary_crossentropy', optimizer='adam', metrics=['accuracy'])"
   ]
  },
  {
   "cell_type": "code",
   "execution_count": 316,
   "metadata": {},
   "outputs": [
    {
     "name": "stdout",
     "output_type": "stream",
     "text": [
      "Epoch 1/10\n",
      "7500/7500 [==============================] - 2s 245us/step - loss: 0.1866 - acc: 0.9723\n",
      "Epoch 2/10\n",
      "7500/7500 [==============================] - 0s 60us/step - loss: 0.0026 - acc: 1.0000\n",
      "Epoch 3/10\n",
      "7500/7500 [==============================] - 0s 58us/step - loss: 7.4383e-04 - acc: 1.0000\n",
      "Epoch 4/10\n",
      "7500/7500 [==============================] - 0s 62us/step - loss: 3.5378e-04 - acc: 1.0000\n",
      "Epoch 5/10\n",
      "7500/7500 [==============================] - 1s 68us/step - loss: 2.0550e-04 - acc: 1.0000\n",
      "Epoch 6/10\n",
      "7500/7500 [==============================] - 0s 62us/step - loss: 1.3310e-04 - acc: 1.0000\n",
      "Epoch 7/10\n",
      "7500/7500 [==============================] - 1s 68us/step - loss: 9.2281e-05 - acc: 1.0000\n",
      "Epoch 8/10\n",
      "7500/7500 [==============================] - 1s 69us/step - loss: 6.7057e-05 - acc: 1.0000\n",
      "Epoch 9/10\n",
      "7500/7500 [==============================] - 1s 69us/step - loss: 5.0416e-05 - acc: 1.0000\n",
      "Epoch 10/10\n",
      "7500/7500 [==============================] - 0s 67us/step - loss: 3.8897e-05 - acc: 1.0000\n"
     ]
    },
    {
     "data": {
      "text/plain": [
       "<keras.callbacks.History at 0x1cb193c7390>"
      ]
     },
     "execution_count": 316,
     "metadata": {},
     "output_type": "execute_result"
    }
   ],
   "source": [
    "# Fit model on training data\n",
    "model.fit(X_train, y_train, epochs=10)"
   ]
  },
  {
   "cell_type": "code",
   "execution_count": 317,
   "metadata": {},
   "outputs": [
    {
     "name": "stdout",
     "output_type": "stream",
     "text": [
      "2500/2500 [==============================] - 1s 272us/step\n"
     ]
    }
   ],
   "source": [
    "# Evaluate model with test data\n",
    "val_loss, val_accuracy = model.evaluate(X_test, y_test)"
   ]
  },
  {
   "cell_type": "code",
   "execution_count": 318,
   "metadata": {},
   "outputs": [
    {
     "name": "stdout",
     "output_type": "stream",
     "text": [
      "Test Data Accuracy = 100.0 %\n",
      "Test Data Loss = 3.441543941153213e-05\n"
     ]
    }
   ],
   "source": [
    "print(\"Test Data Accuracy =\", val_accuracy*100, '%')\n",
    "print(\"Test Data Loss =\", val_loss) "
   ]
  },
  {
   "cell_type": "code",
   "execution_count": 319,
   "metadata": {},
   "outputs": [],
   "source": [
    "# Save the model\n",
    "model.save('XOR_Predictor.model')"
   ]
  },
  {
   "cell_type": "code",
   "execution_count": null,
   "metadata": {},
   "outputs": [],
   "source": []
  }
 ],
 "metadata": {
  "kernelspec": {
   "display_name": "Python 3",
   "language": "python",
   "name": "python3"
  },
  "language_info": {
   "codemirror_mode": {
    "name": "ipython",
    "version": 3
   },
   "file_extension": ".py",
   "mimetype": "text/x-python",
   "name": "python",
   "nbconvert_exporter": "python",
   "pygments_lexer": "ipython3",
   "version": "3.6.5"
  }
 },
 "nbformat": 4,
 "nbformat_minor": 2
}
